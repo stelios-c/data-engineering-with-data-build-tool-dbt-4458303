{
 "cells": [
  {
   "cell_type": "code",
   "execution_count": 1,
   "metadata": {},
   "outputs": [],
   "source": [
    "import duckdb\n",
    "import pandas as pd"
   ]
  },
  {
   "cell_type": "code",
   "execution_count": 6,
   "metadata": {},
   "outputs": [
    {
     "data": {
      "text/html": [
       "<div>\n",
       "<style scoped>\n",
       "    .dataframe tbody tr th:only-of-type {\n",
       "        vertical-align: middle;\n",
       "    }\n",
       "\n",
       "    .dataframe tbody tr th {\n",
       "        vertical-align: top;\n",
       "    }\n",
       "\n",
       "    .dataframe thead th {\n",
       "        text-align: right;\n",
       "    }\n",
       "</style>\n",
       "<table border=\"1\" class=\"dataframe\">\n",
       "  <thead>\n",
       "    <tr style=\"text-align: right;\">\n",
       "      <th></th>\n",
       "      <th>name</th>\n",
       "    </tr>\n",
       "  </thead>\n",
       "  <tbody>\n",
       "  </tbody>\n",
       "</table>\n",
       "</div>"
      ],
      "text/plain": [
       "Empty DataFrame\n",
       "Columns: [name]\n",
       "Index: []"
      ]
     },
     "metadata": {},
     "output_type": "display_data"
    }
   ],
   "source": [
    "sql_query = '''\n",
    "show tables\n",
    "'''\n",
    "\n",
    "with duckdb.connect('data/nyc_parking_violations.db') as con:\n",
    "    display(con.sql(sql_query).df())"
   ]
  },
  {
   "cell_type": "code",
   "execution_count": 8,
   "metadata": {},
   "outputs": [
    {
     "ename": "BinderException",
     "evalue": "Binder Error: Invalid named parameter \"nomalize_names\" for function read_csv_auto\nCandidates:\n    hive_types_autocast BOOLEAN\n    hive_types ANY\n    union_by_name BOOLEAN\n    hive_partitioning BOOLEAN\n    filename BOOLEAN\n    dtypes ANY\n    auto_detect BOOLEAN\n    sample_size BIGINT\n    max_line_size VARCHAR\n    dateformat VARCHAR\n    columns ANY\n    all_varchar BOOLEAN\n    new_line VARCHAR\n    rejects_recovery_columns VARCHAR[]\n    header BOOLEAN\n    types ANY\n    skip BIGINT\n    compression VARCHAR\n    quote VARCHAR\n    delim VARCHAR\n    sep VARCHAR\n    column_names VARCHAR[]\n    buffer_size UBIGINT\n    timestampformat VARCHAR\n    normalize_names BOOLEAN\n    ignore_errors BOOLEAN\n    parallel BOOLEAN\n    auto_type_candidates ANY\n    rejects_limit BIGINT\n    nullstr VARCHAR\n    escape VARCHAR\n    decimal_separator VARCHAR\n    null_padding BOOLEAN\n    names VARCHAR[]\n    maximum_line_size VARCHAR\n    rejects_table VARCHAR\n    allow_quoted_nulls BOOLEAN\n    column_types ANY\n\nLINE 4: FROM read_csv_auto(\n             ^",
     "output_type": "error",
     "traceback": [
      "\u001b[0;31m---------------------------------------------------------------------------\u001b[0m",
      "\u001b[0;31mBinderException\u001b[0m                           Traceback (most recent call last)",
      "Cell \u001b[0;32mIn[8], line 19\u001b[0m\n\u001b[1;32m      1\u001b[0m sql_query_import_1 \u001b[38;5;241m=\u001b[39m \u001b[38;5;124m'''\u001b[39m\n\u001b[1;32m      2\u001b[0m \u001b[38;5;124mCREATE OR REPLACE TABLE parking_violation_codes AS\u001b[39m\n\u001b[1;32m      3\u001b[0m \u001b[38;5;124mSELECT *\u001b[39m\n\u001b[0;32m   (...)\u001b[0m\n\u001b[1;32m      7\u001b[0m \u001b[38;5;124m)\u001b[39m\n\u001b[1;32m      8\u001b[0m \u001b[38;5;124m'''\u001b[39m\n\u001b[1;32m     10\u001b[0m sql_query_import_2 \u001b[38;5;241m=\u001b[39m \u001b[38;5;124m'''\u001b[39m\n\u001b[1;32m     11\u001b[0m \u001b[38;5;124mCREATE OR REPLACE TABLE parking_violation_2023 AS\u001b[39m\n\u001b[1;32m     12\u001b[0m \u001b[38;5;124mSELECT *\u001b[39m\n\u001b[0;32m   (...)\u001b[0m\n\u001b[1;32m     16\u001b[0m \u001b[38;5;124m)\u001b[39m\n\u001b[1;32m     17\u001b[0m \u001b[38;5;124m'''\u001b[39m\n\u001b[0;32m---> 19\u001b[0m \u001b[38;5;28;01mwith\u001b[39;00m duckdb\u001b[38;5;241m.\u001b[39mconnect(\u001b[38;5;124m'\u001b[39m\u001b[38;5;124mdata/nyc_parking_violations.db\u001b[39m\u001b[38;5;124m'\u001b[39m) \u001b[38;5;28;01mas\u001b[39;00m con:\n\u001b[1;32m     20\u001b[0m   con\u001b[38;5;241m.\u001b[39msql(sql_query_import_1)\n\u001b[1;32m     21\u001b[0m   \u001b[38;5;66;03m#con.sql(sql_query_import_2)\u001b[39;00m\n",
      "Cell \u001b[0;32mIn[8], line 20\u001b[0m\n\u001b[1;32m     10\u001b[0m sql_query_import_2 \u001b[38;5;241m=\u001b[39m \u001b[38;5;124m'''\u001b[39m\n\u001b[1;32m     11\u001b[0m \u001b[38;5;124mCREATE OR REPLACE TABLE parking_violation_2023 AS\u001b[39m\n\u001b[1;32m     12\u001b[0m \u001b[38;5;124mSELECT *\u001b[39m\n\u001b[0;32m   (...)\u001b[0m\n\u001b[1;32m     16\u001b[0m \u001b[38;5;124m)\u001b[39m\n\u001b[1;32m     17\u001b[0m \u001b[38;5;124m'''\u001b[39m\n\u001b[1;32m     19\u001b[0m \u001b[38;5;28;01mwith\u001b[39;00m duckdb\u001b[38;5;241m.\u001b[39mconnect(\u001b[38;5;124m'\u001b[39m\u001b[38;5;124mdata/nyc_parking_violations.db\u001b[39m\u001b[38;5;124m'\u001b[39m) \u001b[38;5;28;01mas\u001b[39;00m con:\n\u001b[0;32m---> 20\u001b[0m   \u001b[43mcon\u001b[49m\u001b[38;5;241;43m.\u001b[39;49m\u001b[43msql\u001b[49m\u001b[43m(\u001b[49m\u001b[43msql_query_import_1\u001b[49m\u001b[43m)\u001b[49m\n\u001b[1;32m     21\u001b[0m   \u001b[38;5;66;03m#con.sql(sql_query_import_2)\u001b[39;00m\n",
      "\u001b[0;31mBinderException\u001b[0m: Binder Error: Invalid named parameter \"nomalize_names\" for function read_csv_auto\nCandidates:\n    hive_types_autocast BOOLEAN\n    hive_types ANY\n    union_by_name BOOLEAN\n    hive_partitioning BOOLEAN\n    filename BOOLEAN\n    dtypes ANY\n    auto_detect BOOLEAN\n    sample_size BIGINT\n    max_line_size VARCHAR\n    dateformat VARCHAR\n    columns ANY\n    all_varchar BOOLEAN\n    new_line VARCHAR\n    rejects_recovery_columns VARCHAR[]\n    header BOOLEAN\n    types ANY\n    skip BIGINT\n    compression VARCHAR\n    quote VARCHAR\n    delim VARCHAR\n    sep VARCHAR\n    column_names VARCHAR[]\n    buffer_size UBIGINT\n    timestampformat VARCHAR\n    normalize_names BOOLEAN\n    ignore_errors BOOLEAN\n    parallel BOOLEAN\n    auto_type_candidates ANY\n    rejects_limit BIGINT\n    nullstr VARCHAR\n    escape VARCHAR\n    decimal_separator VARCHAR\n    null_padding BOOLEAN\n    names VARCHAR[]\n    maximum_line_size VARCHAR\n    rejects_table VARCHAR\n    allow_quoted_nulls BOOLEAN\n    column_types ANY\n\nLINE 4: FROM read_csv_auto(\n             ^"
     ]
    }
   ],
   "source": [
    "sql_query_import_1 = '''\n",
    "CREATE OR REPLACE TABLE parking_violation_codes AS\n",
    "SELECT *\n",
    "FROM read_csv_auto(\n",
    "  'data/dof_parking_violation_codes.csv',\n",
    "  nomalize_names=True\n",
    ")\n",
    "'''\n",
    "\n",
    "sql_query_import_2 = '''\n",
    "CREATE OR REPLACE TABLE parking_violation_2023 AS\n",
    "SELECT *\n",
    "FROM read_csv_auto(\n",
    "  'data/parking_violations_issued_fiscal_year_2023_sample.csv',\n",
    "  nomalize_names=True\n",
    ")\n",
    "'''\n",
    "\n",
    "with duckdb.connect('data/nyc_parking_violations.db') as con:\n",
    "  con.sql(sql_query_import_1)\n",
    "  #con.sql(sql_query_import_2)\n",
    "  \n"
   ]
  }
 ],
 "metadata": {
  "kernelspec": {
   "display_name": "Python 3",
   "language": "python",
   "name": "python3"
  },
  "language_info": {
   "codemirror_mode": {
    "name": "ipython",
    "version": 3
   },
   "file_extension": ".py",
   "mimetype": "text/x-python",
   "name": "python",
   "nbconvert_exporter": "python",
   "pygments_lexer": "ipython3",
   "version": "3.10.12"
  },
  "orig_nbformat": 4,
  "vscode": {
   "interpreter": {
    "hash": "31f2aee4e71d21fbe5cf8b01ff0e069b9275f58929596ceb00d14d90e3e16cd6"
   }
  }
 },
 "nbformat": 4,
 "nbformat_minor": 2
}
